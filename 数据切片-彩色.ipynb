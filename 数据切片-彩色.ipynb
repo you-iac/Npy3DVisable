{
 "cells": [
  {
   "cell_type": "code",
   "id": "initial_id",
   "metadata": {
    "collapsed": true,
    "ExecuteTime": {
     "end_time": "2025-03-08T09:43:20.479789Z",
     "start_time": "2025-03-08T09:43:20.315244Z"
    }
   },
   "source": [
    "\n",
    "import segyio\n",
    "import os\n",
    "import sys\n",
    "import time\n",
    "from obspy.io.segy.segy import _read_segy, SEGYBinaryFileHeader\n",
    "from obspy import read\n",
    "import numpy as np\n",
    "import matplotlib.pyplot as plt"
   ],
   "outputs": [],
   "execution_count": 4
  },
  {
   "metadata": {
    "ExecuteTime": {
     "end_time": "2025-03-08T09:43:30.455758Z",
     "start_time": "2025-03-08T09:43:20.480781Z"
    }
   },
   "cell_type": "code",
   "source": [
    "import matplotlib\n",
    "matplotlib.use('Agg')  # 使用非交互式后端\n",
    "import matplotlib.pyplot as plt\n",
    "import numpy as np\n",
    "\n",
    "filename = ('jglcsswlp_R')\n",
    "data = np.load('D:/data/' + filename + '.npy')\n",
    "data.shape\n"
   ],
   "id": "d0719b65179709d6",
   "outputs": [
    {
     "data": {
      "text/plain": [
       "(1475, 1151, 551)"
      ]
     },
     "execution_count": 5,
     "metadata": {},
     "output_type": "execute_result"
    }
   ],
   "execution_count": 5
  },
  {
   "metadata": {
    "jupyter": {
     "is_executing": true
    },
    "ExecuteTime": {
     "start_time": "2025-03-08T09:43:30.457759Z"
    }
   },
   "cell_type": "code",
   "source": [
    "# 预计算固定尺寸（假设所有切片尺寸相同）\n",
    "fig_width = data.shape[2] / 20 + 2      # +2 的目的是显示times刻度\n",
    "fig_height = data.shape[0] / 20\n",
    "\n",
    "for i in range(data.shape[1]):\n",
    "    # 创建新Figure并显式关闭\n",
    "    fig = plt.figure(figsize=(fig_width, fig_height))\n",
    "    plt.subplots_adjust(left=0, right=1, top=1, bottom=0)\n",
    "    plt.imshow(data[:, i, :], vmin=-0.01, vmax=0.01, aspect=1)\n",
    "    plt.savefig(f'D:/data/{filename}/X-{i}.png')\n",
    "    plt.close(fig)  # 明确关闭Figure释放内存"
   ],
   "id": "33e4686a2a343f4c",
   "outputs": [],
   "execution_count": null
  },
  {
   "metadata": {
    "jupyter": {
     "is_executing": true
    }
   },
   "cell_type": "code",
   "source": [
    "fig_width = data.shape[1] / 20 + 2      # +2 的目的是显示times刻度\n",
    "fig_height = data.shape[0] / 20\n",
    "###########   Y\n",
    "for i in range(0, data.shape[2]):\n",
    "    fig = plt.figure(figsize=(fig_width, fig_height))\n",
    "    plt.subplots_adjust(left=0, right=1, top=1, bottom=0)\n",
    "    plt.imshow(data[:,:,i], vmin=-0.01, vmax=0.01, aspect=1)\n",
    "    plt.savefig(f'D:/data/{filename}/Y-{i}.png')\n",
    "    plt.close(fig)  # 明确关闭Figure释放内存"
   ],
   "id": "4cc56d27a3484a8e",
   "outputs": [],
   "execution_count": null
  },
  {
   "metadata": {
    "jupyter": {
     "is_executing": true
    }
   },
   "cell_type": "code",
   "source": [
    "fig_width = data.shape[2] / 20 + 2      # +2 的目的是显示times刻度\n",
    "fig_height = data.shape[1] / 20 + 2\n",
    "###########   Y\n",
    "for i in range(0, data.shape[0]):\n",
    "    fig = plt.figure(figsize=(fig_width, fig_height))\n",
    "    plt.subplots_adjust(left=0, right=1, top=1, bottom=0)\n",
    "    plt.imshow(data[i,:,:], vmin=-0.01, vmax=0.01, aspect=1)\n",
    "    plt.savefig(f'D:/data/{filename}/T-{i}.png')\n",
    "    plt.close(fig)  # 明确关闭Figure释放内存"
   ],
   "id": "10f3d210c999b942",
   "outputs": [],
   "execution_count": null
  },
  {
   "metadata": {
    "jupyter": {
     "is_executing": true
    }
   },
   "cell_type": "code",
   "source": "",
   "id": "2f5b3bec3a99c2ce",
   "outputs": [],
   "execution_count": null
  }
 ],
 "metadata": {
  "kernelspec": {
   "display_name": "Python 3",
   "language": "python",
   "name": "python3"
  },
  "language_info": {
   "codemirror_mode": {
    "name": "ipython",
    "version": 2
   },
   "file_extension": ".py",
   "mimetype": "text/x-python",
   "name": "python",
   "nbconvert_exporter": "python",
   "pygments_lexer": "ipython2",
   "version": "2.7.6"
  }
 },
 "nbformat": 4,
 "nbformat_minor": 5
}
